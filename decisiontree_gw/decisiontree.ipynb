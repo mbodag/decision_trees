{
 "cells": [
  {
   "cell_type": "code",
   "execution_count": 1,
   "metadata": {},
   "outputs": [],
   "source": [
    "import numpy as np"
   ]
  },
  {
   "cell_type": "code",
   "execution_count": 292,
   "metadata": {},
   "outputs": [],
   "source": [
    "class DecisionTreeTrain:\n",
    "    def __init__(self):\n",
    "        \"\"\"Class to train decision tree\n",
    "        \"\"\"\n",
    "    \n",
    "    def decision_tree_learning(self,training_data,depth=0):\n",
    "        \"\"\"Method to create decision tree based on the training data input\n",
    "\n",
    "        Args:\n",
    "            depth (int): starting depth of decision tree (default to be zero)\n",
    "        \n",
    "        Returns:\n",
    "            decision_tree (dict): decision tree output in dictionary\n",
    "        \"\"\"\n",
    "\n",
    "        labels = np.unique(training_data[:,-1])\n",
    "        if len(labels) == 1:\n",
    "            return ({'attribute': None, 'value': np.floor(labels[0]), 'left': None, 'right': None, 'depth':depth}, depth)\n",
    "        else:\n",
    "            split_attribute, split = self.find_split(training_data)\n",
    "            left_data = training_data[training_data[:,split_attribute-1]<=split]\n",
    "            right_data = training_data[training_data[:,split_attribute-1]>split]\n",
    "            left_branch, left_depth = self.decision_tree_learning(left_data,depth+1)\n",
    "            right_branch, right_depth = self.decision_tree_learning(right_data, depth+1)\n",
    "            node = {'attribute': np.floor(split_attribute), 'value': split, 'left': left_branch, 'right': right_branch, 'depth':depth+1}\n",
    "        return (node, max(left_depth,right_depth))\n",
    "\n",
    "\n",
    "    def find_split(self, data):\n",
    "        \"\"\"Method to find split point of attributes that gives the highest information gain\n",
    "\n",
    "        Args:\n",
    "            data (np.array): an numpy array of training dataset with each column representing a attribute and last column representing the label\n",
    "        \n",
    "        Returns:\n",
    "            best_attribute (int): attribute resulting in highest information gain\n",
    "            best_split_value (float): split value resulting in hightest information gain\n",
    "        \"\"\"\n",
    "        \n",
    "        attributes = np.shape(data)[-1]-1\n",
    "        overall_entropy = self.calculate_entropy(data)\n",
    "        best_information_gain = -np.Inf\n",
    "        best_attribute = None\n",
    "        best_split_value = None\n",
    "\n",
    "        for attribute in range(1,attributes+1):\n",
    "            potential_splits = np.sort(data[:,attribute-1])\n",
    "            for split in np.unique(potential_splits):\n",
    "                left = data[data[:,attribute-1]<=split]\n",
    "                right = data[data[:,attribute-1]>split]\n",
    "                information_gain = (\n",
    "                    overall_entropy - \n",
    "                    len(left)/len(data)*self.calculate_entropy(left) - \n",
    "                    len(right)/len(data)*self.calculate_entropy(right)\n",
    "                    )\n",
    "                if information_gain > best_information_gain:\n",
    "                    best_information_gain = information_gain\n",
    "                    best_attribute = attribute\n",
    "                    best_split_value = split\n",
    "        return (best_attribute,best_split_value)\n",
    "    \n",
    "    def calculate_entropy(self, data,):\n",
    "        \"\"\"calculate_entropy for a given data extract\n",
    "\n",
    "        Args:\n",
    "            data (np.array): an numpy array of training dataset with each column representing a attribute and last column representing the label\n",
    "        \n",
    "        Returns:\n",
    "            entropy (float)\n",
    "        \"\"\"\n",
    "        labels = np.unique(data[:,-1])\n",
    "        entropy = 0\n",
    "        for label in labels:\n",
    "            label_occurance = len(data[data[:,-1]==label])\n",
    "            data_size = len(data)\n",
    "            entropy += -label_occurance/data_size * np.log2(label_occurance/data_size)\n",
    "        return entropy"
   ]
  },
  {
   "cell_type": "code",
   "execution_count": 298,
   "metadata": {},
   "outputs": [],
   "source": [
    "data = np.loadtxt(\"/Users/ganweiwang/Library/CloudStorage/OneDrive-ImperialCollegeLondon/MSc_AI/introml/cw1/cw1/wifi_db/clean_dataset.txt\")"
   ]
  },
  {
   "cell_type": "code",
   "execution_count": 299,
   "metadata": {},
   "outputs": [],
   "source": [
    "dt = DecisionTreeTrain()"
   ]
  },
  {
   "cell_type": "code",
   "execution_count": 300,
   "metadata": {},
   "outputs": [
    {
     "data": {
      "text/plain": [
       "1012"
      ]
     },
     "execution_count": 300,
     "metadata": {},
     "output_type": "execute_result"
    }
   ],
   "source": [
    "len(data[data[:,0]<=-55])"
   ]
  },
  {
   "cell_type": "code",
   "execution_count": 301,
   "metadata": {},
   "outputs": [],
   "source": [
    "a,b = dt.decision_tree_learning(data)"
   ]
  },
  {
   "cell_type": "code",
   "execution_count": 302,
   "metadata": {},
   "outputs": [
    {
     "data": {
      "text/plain": [
       "{'attribute': 1.0,\n",
       " 'value': -55.0,\n",
       " 'left': {'attribute': 5.0,\n",
       "  'value': -60.0,\n",
       "  'left': {'attribute': 4.0,\n",
       "   'value': -56.0,\n",
       "   'left': {'attribute': 3.0,\n",
       "    'value': -56.0,\n",
       "    'left': {'attribute': None,\n",
       "     'value': 1.0,\n",
       "     'left': None,\n",
       "     'right': None,\n",
       "     'depth': 4},\n",
       "    'right': {'attribute': 7.0,\n",
       "     'value': -86.0,\n",
       "     'left': {'attribute': 5.0,\n",
       "      'value': -63.0,\n",
       "      'left': {'attribute': 6.0,\n",
       "       'value': -86.0,\n",
       "       'left': {'attribute': 1.0,\n",
       "        'value': -60.0,\n",
       "        'left': {'attribute': None,\n",
       "         'value': 4.0,\n",
       "         'left': None,\n",
       "         'right': None,\n",
       "         'depth': 8},\n",
       "        'right': {'attribute': None,\n",
       "         'value': 3.0,\n",
       "         'left': None,\n",
       "         'right': None,\n",
       "         'depth': 8},\n",
       "        'depth': 8},\n",
       "       'right': {'attribute': None,\n",
       "        'value': 1.0,\n",
       "        'left': None,\n",
       "        'right': None,\n",
       "        'depth': 7},\n",
       "       'depth': 7},\n",
       "      'right': {'attribute': None,\n",
       "       'value': 4.0,\n",
       "       'left': None,\n",
       "       'right': None,\n",
       "       'depth': 6},\n",
       "      'depth': 6},\n",
       "     'right': {'attribute': None,\n",
       "      'value': 1.0,\n",
       "      'left': None,\n",
       "      'right': None,\n",
       "      'depth': 5},\n",
       "     'depth': 5},\n",
       "    'depth': 4},\n",
       "   'right': {'attribute': 2.0,\n",
       "    'value': -51.0,\n",
       "    'left': {'attribute': None,\n",
       "     'value': 3.0,\n",
       "     'left': None,\n",
       "     'right': None,\n",
       "     'depth': 4},\n",
       "    'right': {'attribute': 1.0,\n",
       "     'value': -60.0,\n",
       "     'left': {'attribute': None,\n",
       "      'value': 3.0,\n",
       "      'left': None,\n",
       "      'right': None,\n",
       "      'depth': 5},\n",
       "     'right': {'attribute': None,\n",
       "      'value': 1.0,\n",
       "      'left': None,\n",
       "      'right': None,\n",
       "      'depth': 5},\n",
       "     'depth': 5},\n",
       "    'depth': 4},\n",
       "   'depth': 3},\n",
       "  'right': {'attribute': 5.0,\n",
       "   'value': -57.0,\n",
       "   'left': {'attribute': 4.0,\n",
       "    'value': -59.0,\n",
       "    'left': {'attribute': None,\n",
       "     'value': 4.0,\n",
       "     'left': None,\n",
       "     'right': None,\n",
       "     'depth': 4},\n",
       "    'right': {'attribute': None,\n",
       "     'value': 3.0,\n",
       "     'left': None,\n",
       "     'right': None,\n",
       "     'depth': 4},\n",
       "    'depth': 4},\n",
       "   'right': {'attribute': None,\n",
       "    'value': 4.0,\n",
       "    'left': None,\n",
       "    'right': None,\n",
       "    'depth': 3},\n",
       "   'depth': 3},\n",
       "  'depth': 2},\n",
       " 'right': {'attribute': 1.0,\n",
       "  'value': -45.0,\n",
       "  'left': {'attribute': 5.0,\n",
       "   'value': -71.0,\n",
       "   'left': {'attribute': 4.0,\n",
       "    'value': -49.0,\n",
       "    'left': {'attribute': 3.0,\n",
       "     'value': -59.0,\n",
       "     'left': {'attribute': 1.0,\n",
       "      'value': -51.0,\n",
       "      'left': {'attribute': None,\n",
       "       'value': 3.0,\n",
       "       'left': None,\n",
       "       'right': None,\n",
       "       'depth': 6},\n",
       "      'right': {'attribute': None,\n",
       "       'value': 2.0,\n",
       "       'left': None,\n",
       "       'right': None,\n",
       "       'depth': 6},\n",
       "      'depth': 6},\n",
       "     'right': {'attribute': None,\n",
       "      'value': 3.0,\n",
       "      'left': None,\n",
       "      'right': None,\n",
       "      'depth': 5},\n",
       "     'depth': 5},\n",
       "    'right': {'attribute': 2.0,\n",
       "     'value': -59.0,\n",
       "     'left': {'attribute': 2.0,\n",
       "      'value': -60.0,\n",
       "      'left': {'attribute': None,\n",
       "       'value': 2.0,\n",
       "       'left': None,\n",
       "       'right': None,\n",
       "       'depth': 6},\n",
       "      'right': {'attribute': None,\n",
       "       'value': 3.0,\n",
       "       'left': None,\n",
       "       'right': None,\n",
       "       'depth': 6},\n",
       "      'depth': 6},\n",
       "     'right': {'attribute': None,\n",
       "      'value': 2.0,\n",
       "      'left': None,\n",
       "      'right': None,\n",
       "      'depth': 5},\n",
       "     'depth': 5},\n",
       "    'depth': 4},\n",
       "   'right': {'attribute': 4.0,\n",
       "    'value': -40.0,\n",
       "    'left': {'attribute': 5.0,\n",
       "     'value': -54.0,\n",
       "     'left': {'attribute': 3.0,\n",
       "      'value': -54.0,\n",
       "      'left': {'attribute': 6.0,\n",
       "       'value': -78.0,\n",
       "       'left': {'attribute': 4.0,\n",
       "        'value': -49.0,\n",
       "        'left': {'attribute': 7.0,\n",
       "         'value': -77.0,\n",
       "         'left': {'attribute': None,\n",
       "          'value': 3.0,\n",
       "          'left': None,\n",
       "          'right': None,\n",
       "          'depth': 9},\n",
       "         'right': {'attribute': 6.0,\n",
       "          'value': -87.0,\n",
       "          'left': {'attribute': None,\n",
       "           'value': 2.0,\n",
       "           'left': None,\n",
       "           'right': None,\n",
       "           'depth': 10},\n",
       "          'right': {'attribute': None,\n",
       "           'value': 3.0,\n",
       "           'left': None,\n",
       "           'right': None,\n",
       "           'depth': 10},\n",
       "          'depth': 10},\n",
       "         'depth': 9},\n",
       "        'right': {'attribute': 7.0,\n",
       "         'value': -78.0,\n",
       "         'left': {'attribute': 5.0,\n",
       "          'value': -70.0,\n",
       "          'left': {'attribute': None,\n",
       "           'value': 2.0,\n",
       "           'left': None,\n",
       "           'right': None,\n",
       "           'depth': 10},\n",
       "          'right': {'attribute': 2.0,\n",
       "           'value': -56.0,\n",
       "           'left': {'attribute': 3.0,\n",
       "            'value': -56.0,\n",
       "            'left': {'attribute': None,\n",
       "             'value': 3.0,\n",
       "             'left': None,\n",
       "             'right': None,\n",
       "             'depth': 12},\n",
       "            'right': {'attribute': 3.0,\n",
       "             'value': -55.0,\n",
       "             'left': {'attribute': 1.0,\n",
       "              'value': -47.0,\n",
       "              'left': {'attribute': None,\n",
       "               'value': 2.0,\n",
       "               'left': None,\n",
       "               'right': None,\n",
       "               'depth': 14},\n",
       "              'right': {'attribute': None,\n",
       "               'value': 3.0,\n",
       "               'left': None,\n",
       "               'right': None,\n",
       "               'depth': 14},\n",
       "              'depth': 14},\n",
       "             'right': {'attribute': None,\n",
       "              'value': 3.0,\n",
       "              'left': None,\n",
       "              'right': None,\n",
       "              'depth': 13},\n",
       "             'depth': 13},\n",
       "            'depth': 12},\n",
       "           'right': {'attribute': None,\n",
       "            'value': 3.0,\n",
       "            'left': None,\n",
       "            'right': None,\n",
       "            'depth': 11},\n",
       "           'depth': 11},\n",
       "          'depth': 10},\n",
       "         'right': {'attribute': 3.0,\n",
       "          'value': -55.0,\n",
       "          'left': {'attribute': None,\n",
       "           'value': 2.0,\n",
       "           'left': None,\n",
       "           'right': None,\n",
       "           'depth': 10},\n",
       "          'right': {'attribute': 1.0,\n",
       "           'value': -46.0,\n",
       "           'left': {'attribute': None,\n",
       "            'value': 3.0,\n",
       "            'left': None,\n",
       "            'right': None,\n",
       "            'depth': 11},\n",
       "           'right': {'attribute': None,\n",
       "            'value': 2.0,\n",
       "            'left': None,\n",
       "            'right': None,\n",
       "            'depth': 11},\n",
       "           'depth': 11},\n",
       "          'depth': 10},\n",
       "         'depth': 9},\n",
       "        'depth': 8},\n",
       "       'right': {'attribute': 5.0,\n",
       "        'value': -69.0,\n",
       "        'left': {'attribute': None,\n",
       "         'value': 2.0,\n",
       "         'left': None,\n",
       "         'right': None,\n",
       "         'depth': 8},\n",
       "        'right': {'attribute': 7.0,\n",
       "         'value': -75.0,\n",
       "         'left': {'attribute': 5.0,\n",
       "          'value': -66.0,\n",
       "          'left': {'attribute': 1.0,\n",
       "           'value': -50.0,\n",
       "           'left': {'attribute': None,\n",
       "            'value': 3.0,\n",
       "            'left': None,\n",
       "            'right': None,\n",
       "            'depth': 11},\n",
       "           'right': {'attribute': 7.0,\n",
       "            'value': -89.0,\n",
       "            'left': {'attribute': None,\n",
       "             'value': 3.0,\n",
       "             'left': None,\n",
       "             'right': None,\n",
       "             'depth': 12},\n",
       "            'right': {'attribute': None,\n",
       "             'value': 2.0,\n",
       "             'left': None,\n",
       "             'right': None,\n",
       "             'depth': 12},\n",
       "            'depth': 12},\n",
       "           'depth': 11},\n",
       "          'right': {'attribute': None,\n",
       "           'value': 3.0,\n",
       "           'left': None,\n",
       "           'right': None,\n",
       "           'depth': 10},\n",
       "          'depth': 10},\n",
       "         'right': {'attribute': None,\n",
       "          'value': 2.0,\n",
       "          'left': None,\n",
       "          'right': None,\n",
       "          'depth': 9},\n",
       "         'depth': 9},\n",
       "        'depth': 8},\n",
       "       'depth': 7},\n",
       "      'right': {'attribute': 7.0,\n",
       "       'value': -73.0,\n",
       "       'left': {'attribute': None,\n",
       "        'value': 3.0,\n",
       "        'left': None,\n",
       "        'right': None,\n",
       "        'depth': 7},\n",
       "       'right': {'attribute': None,\n",
       "        'value': 2.0,\n",
       "        'left': None,\n",
       "        'right': None,\n",
       "        'depth': 7},\n",
       "       'depth': 7},\n",
       "      'depth': 6},\n",
       "     'right': {'attribute': None,\n",
       "      'value': 4.0,\n",
       "      'left': None,\n",
       "      'right': None,\n",
       "      'depth': 5},\n",
       "     'depth': 5},\n",
       "    'right': {'attribute': None,\n",
       "     'value': 2.0,\n",
       "     'left': None,\n",
       "     'right': None,\n",
       "     'depth': 4},\n",
       "    'depth': 4},\n",
       "   'depth': 3},\n",
       "  'right': {'attribute': 4.0,\n",
       "   'value': -48.0,\n",
       "   'left': {'attribute': 1.0,\n",
       "    'value': -43.0,\n",
       "    'left': {'attribute': None,\n",
       "     'value': 3.0,\n",
       "     'left': None,\n",
       "     'right': None,\n",
       "     'depth': 4},\n",
       "    'right': {'attribute': 3.0,\n",
       "     'value': -49.0,\n",
       "     'left': {'attribute': None,\n",
       "      'value': 2.0,\n",
       "      'left': None,\n",
       "      'right': None,\n",
       "      'depth': 5},\n",
       "     'right': {'attribute': None,\n",
       "      'value': 3.0,\n",
       "      'left': None,\n",
       "      'right': None,\n",
       "      'depth': 5},\n",
       "     'depth': 5},\n",
       "    'depth': 4},\n",
       "   'right': {'attribute': None,\n",
       "    'value': 2.0,\n",
       "    'left': None,\n",
       "    'right': None,\n",
       "    'depth': 3},\n",
       "   'depth': 3},\n",
       "  'depth': 2},\n",
       " 'depth': 1}"
      ]
     },
     "execution_count": 302,
     "metadata": {},
     "output_type": "execute_result"
    }
   ],
   "source": [
    "a"
   ]
  },
  {
   "cell_type": "code",
   "execution_count": 273,
   "metadata": {},
   "outputs": [
    {
     "name": "stdout",
     "output_type": "stream",
     "text": [
      "1 -55.0 [[-59. -53. -51. ... -79. -87.   4.]\n",
      " [-66. -53. -59. ... -81. -79.   1.]\n",
      " [-62. -58. -52. ... -87. -88.   4.]\n",
      " ...\n",
      " [-72. -59. -65. ... -84. -91.   1.]\n",
      " [-57. -54. -56. ... -79. -82.   1.]\n",
      " [-56. -52. -50. ... -85. -88.   3.]] [[-41. -57. -63. ... -66. -65.   2.]\n",
      " [-37. -55. -55. ... -66. -69.   2.]\n",
      " [-40. -52. -49. ... -69. -65.   2.]\n",
      " ...\n",
      " [-51. -52. -52. ... -79. -87.   3.]\n",
      " [-38. -51. -53. ... -72. -73.   2.]\n",
      " [-46. -54. -47. ... -80. -73.   3.]]\n"
     ]
    },
    {
     "data": {
      "text/plain": [
       "1012"
      ]
     },
     "execution_count": 273,
     "metadata": {},
     "output_type": "execute_result"
    }
   ],
   "source": [
    "a,b,c,d = dt.find_split(data)\n",
    "print(a,b,c,d)\n",
    "len(c)"
   ]
  },
  {
   "cell_type": "code",
   "execution_count": 233,
   "metadata": {},
   "outputs": [],
   "source": [
    "e,f,g,h = dt.find_split(c)"
   ]
  },
  {
   "cell_type": "code",
   "execution_count": 235,
   "metadata": {},
   "outputs": [
    {
     "data": {
      "text/plain": [
       "515"
      ]
     },
     "execution_count": 235,
     "metadata": {},
     "output_type": "execute_result"
    }
   ],
   "source": [
    "len(g)"
   ]
  },
  {
   "cell_type": "code",
   "execution_count": 236,
   "metadata": {},
   "outputs": [],
   "source": [
    "i,j,k,l = dt.find_split(g)"
   ]
  },
  {
   "cell_type": "code",
   "execution_count": 237,
   "metadata": {},
   "outputs": [
    {
     "data": {
      "text/plain": [
       "504"
      ]
     },
     "execution_count": 237,
     "metadata": {},
     "output_type": "execute_result"
    }
   ],
   "source": [
    "len(k)"
   ]
  },
  {
   "cell_type": "code",
   "execution_count": 239,
   "metadata": {},
   "outputs": [],
   "source": [
    "m,n,o,p = dt.find_split(k)"
   ]
  },
  {
   "cell_type": "code",
   "execution_count": 241,
   "metadata": {},
   "outputs": [
    {
     "data": {
      "text/plain": [
       "462"
      ]
     },
     "execution_count": 241,
     "metadata": {},
     "output_type": "execute_result"
    }
   ],
   "source": [
    "len(o)"
   ]
  },
  {
   "cell_type": "code",
   "execution_count": 242,
   "metadata": {},
   "outputs": [],
   "source": [
    "q,r,s,t = dt.find_split(o)"
   ]
  },
  {
   "cell_type": "code",
   "execution_count": 244,
   "metadata": {},
   "outputs": [
    {
     "data": {
      "text/plain": [
       "334"
      ]
     },
     "execution_count": 244,
     "metadata": {},
     "output_type": "execute_result"
    }
   ],
   "source": [
    "len(s)"
   ]
  },
  {
   "cell_type": "code",
   "execution_count": 246,
   "metadata": {},
   "outputs": [
    {
     "name": "stdout",
     "output_type": "stream",
     "text": [
      "1 5 4 3 7\n"
     ]
    }
   ],
   "source": [
    "print(a,e,i,m,q)"
   ]
  },
  {
   "cell_type": "code",
   "execution_count": 249,
   "metadata": {},
   "outputs": [
    {
     "data": {
      "text/plain": [
       "30"
      ]
     },
     "execution_count": 249,
     "metadata": {},
     "output_type": "execute_result"
    }
   ],
   "source": [
    "len(s[s[:,-1]!=1])"
   ]
  },
  {
   "cell_type": "code",
   "execution_count": 250,
   "metadata": {},
   "outputs": [],
   "source": [
    "u,v,w,x = dt.find_split(s)"
   ]
  },
  {
   "cell_type": "code",
   "execution_count": 251,
   "metadata": {},
   "outputs": [
    {
     "data": {
      "text/plain": [
       "132"
      ]
     },
     "execution_count": 251,
     "metadata": {},
     "output_type": "execute_result"
    }
   ],
   "source": [
    "len(w)"
   ]
  },
  {
   "cell_type": "code",
   "execution_count": 252,
   "metadata": {},
   "outputs": [
    {
     "name": "stdout",
     "output_type": "stream",
     "text": [
      "[[-63. -58. -64. ... -87. -87.   4.]\n",
      " [-58. -59. -56. ... -82. -87.   1.]\n",
      " [-60. -58. -60. ... -84. -88.   1.]\n",
      " ...\n",
      " [-64. -54. -65. ... -85. -89.   1.]\n",
      " [-60. -58. -57. ... -80. -89.   1.]\n",
      " [-72. -59. -65. ... -84. -91.   1.]]\n"
     ]
    }
   ],
   "source": [
    "print(w)"
   ]
  },
  {
   "cell_type": "code",
   "execution_count": 255,
   "metadata": {},
   "outputs": [
    {
     "data": {
      "text/plain": [
       "14"
      ]
     },
     "execution_count": 255,
     "metadata": {},
     "output_type": "execute_result"
    }
   ],
   "source": [
    "len((w[w[:,-1]!=1]))"
   ]
  },
  {
   "cell_type": "code",
   "execution_count": null,
   "metadata": {},
   "outputs": [],
   "source": []
  }
 ],
 "metadata": {
  "kernelspec": {
   "display_name": "venv",
   "language": "python",
   "name": "python3"
  },
  "language_info": {
   "codemirror_mode": {
    "name": "ipython",
    "version": 3
   },
   "file_extension": ".py",
   "mimetype": "text/x-python",
   "name": "python",
   "nbconvert_exporter": "python",
   "pygments_lexer": "ipython3",
   "version": "3.10.13"
  }
 },
 "nbformat": 4,
 "nbformat_minor": 2
}
